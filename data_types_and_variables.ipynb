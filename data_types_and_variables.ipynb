{
 "cells": [
  {
   "cell_type": "code",
   "execution_count": 7,
   "id": "c3fc3cc6",
   "metadata": {},
   "outputs": [],
   "source": [
    "#1. Identify the data type of the following values:"
   ]
  },
  {
   "cell_type": "code",
   "execution_count": 8,
   "id": "54c6f273",
   "metadata": {},
   "outputs": [
    {
     "data": {
      "text/plain": [
       "int"
      ]
     },
     "execution_count": 8,
     "metadata": {},
     "output_type": "execute_result"
    }
   ],
   "source": [
    "#99.9\n",
    "int"
   ]
  },
  {
   "cell_type": "code",
   "execution_count": 9,
   "id": "4e510551",
   "metadata": {},
   "outputs": [
    {
     "data": {
      "text/plain": [
       "str"
      ]
     },
     "execution_count": 9,
     "metadata": {},
     "output_type": "execute_result"
    }
   ],
   "source": [
    "#\"False\"\n",
    "str"
   ]
  },
  {
   "cell_type": "code",
   "execution_count": 10,
   "id": "71f8bf6f",
   "metadata": {},
   "outputs": [
    {
     "data": {
      "text/plain": [
       "bool"
      ]
     },
     "execution_count": 10,
     "metadata": {},
     "output_type": "execute_result"
    }
   ],
   "source": [
    "#False\n",
    "bool"
   ]
  },
  {
   "cell_type": "code",
   "execution_count": 11,
   "id": "5d5b81e3",
   "metadata": {},
   "outputs": [
    {
     "data": {
      "text/plain": [
       "str"
      ]
     },
     "execution_count": 11,
     "metadata": {},
     "output_type": "execute_result"
    }
   ],
   "source": [
    "#'0'\n",
    "str"
   ]
  },
  {
   "cell_type": "code",
   "execution_count": 12,
   "id": "e1edfe55",
   "metadata": {},
   "outputs": [
    {
     "data": {
      "text/plain": [
       "int"
      ]
     },
     "execution_count": 12,
     "metadata": {},
     "output_type": "execute_result"
    }
   ],
   "source": [
    "#0\n",
    "int"
   ]
  },
  {
   "cell_type": "code",
   "execution_count": 13,
   "id": "a530a9e2",
   "metadata": {},
   "outputs": [
    {
     "data": {
      "text/plain": [
       "bool"
      ]
     },
     "execution_count": 13,
     "metadata": {},
     "output_type": "execute_result"
    }
   ],
   "source": [
    "#True\n",
    "bool"
   ]
  },
  {
   "cell_type": "code",
   "execution_count": 14,
   "id": "86ebe606",
   "metadata": {},
   "outputs": [
    {
     "data": {
      "text/plain": [
       "str"
      ]
     },
     "execution_count": 14,
     "metadata": {},
     "output_type": "execute_result"
    }
   ],
   "source": [
    "#'True'\n",
    "str"
   ]
  },
  {
   "cell_type": "code",
   "execution_count": 15,
   "id": "dbcf816c",
   "metadata": {},
   "outputs": [
    {
     "data": {
      "text/plain": [
       "list"
      ]
     },
     "execution_count": 15,
     "metadata": {},
     "output_type": "execute_result"
    }
   ],
   "source": [
    "#[{}]\n",
    "list"
   ]
  },
  {
   "cell_type": "code",
   "execution_count": 16,
   "id": "0a4c8d8c",
   "metadata": {},
   "outputs": [
    {
     "data": {
      "text/plain": [
       "dict"
      ]
     },
     "execution_count": 16,
     "metadata": {},
     "output_type": "execute_result"
    }
   ],
   "source": [
    "#{'a': []}\n",
    "dict"
   ]
  },
  {
   "cell_type": "code",
   "execution_count": 17,
   "id": "c2d15191",
   "metadata": {},
   "outputs": [
    {
     "data": {
      "text/plain": [
       "str"
      ]
     },
     "execution_count": 17,
     "metadata": {},
     "output_type": "execute_result"
    }
   ],
   "source": [
    "#What data type would best represent the following?\n",
    "\n",
    "#A term or phrase typed into a search box\n",
    "str\n",
    "#Whether or not a user is logged in\n",
    "bool\n",
    "#A discount amount to apply to a user's shopping cart\n",
    "int\n",
    "#Whether or not a coupon code is valid\n",
    "bool\n",
    "\n",
    "#An email address typed into a registration form\n",
    "str\n",
    "#The price of a product\n",
    "int\n",
    "#The email addresses collected from a registration form\n",
    "str\n",
    "#Information about applicants to Codeup's data science program\n",
    "str"
   ]
  },
  {
   "cell_type": "code",
   "execution_count": null,
   "id": "9388a84c",
   "metadata": {},
   "outputs": [],
   "source": [
    "#For each of the following code blocks:\n",
    "\n",
    "#Read the expression and predict the evaluated results\n",
    "\n",
    "#Execute the expression in a Python REPL."
   ]
  },
  {
   "cell_type": "code",
   "execution_count": 18,
   "id": "5d0994c0",
   "metadata": {},
   "outputs": [
    {
     "ename": "TypeError",
     "evalue": "can only concatenate str (not \"int\") to str",
     "output_type": "error",
     "traceback": [
      "\u001b[0;31m---------------------------------------------------------------------------\u001b[0m",
      "\u001b[0;31mTypeError\u001b[0m                                 Traceback (most recent call last)",
      "Cell \u001b[0;32mIn[18], line 1\u001b[0m\n\u001b[0;32m----> 1\u001b[0m \u001b[38;5;124m'\u001b[39m\u001b[38;5;124m1\u001b[39m\u001b[38;5;124m'\u001b[39m \u001b[38;5;241m+\u001b[39m \u001b[38;5;241m2\u001b[39m\n",
      "\u001b[0;31mTypeError\u001b[0m: can only concatenate str (not \"int\") to str"
     ]
    }
   ],
   "source": [
    "'1' + 2"
   ]
  },
  {
   "cell_type": "code",
   "execution_count": 19,
   "id": "7ffd602a",
   "metadata": {},
   "outputs": [
    {
     "data": {
      "text/plain": [
       "2"
      ]
     },
     "execution_count": 19,
     "metadata": {},
     "output_type": "execute_result"
    }
   ],
   "source": [
    "6 % 4\n"
   ]
  },
  {
   "cell_type": "code",
   "execution_count": 20,
   "id": "80dea592",
   "metadata": {},
   "outputs": [
    {
     "data": {
      "text/plain": [
       "int"
      ]
     },
     "execution_count": 20,
     "metadata": {},
     "output_type": "execute_result"
    }
   ],
   "source": [
    "type(6 % 4)\n"
   ]
  },
  {
   "cell_type": "code",
   "execution_count": 21,
   "id": "c288eafd",
   "metadata": {},
   "outputs": [
    {
     "data": {
      "text/plain": [
       "type"
      ]
     },
     "execution_count": 21,
     "metadata": {},
     "output_type": "execute_result"
    }
   ],
   "source": [
    "type(type(6 % 4))\n"
   ]
  },
  {
   "cell_type": "code",
   "execution_count": 22,
   "id": "f7201e0f",
   "metadata": {},
   "outputs": [
    {
     "ename": "TypeError",
     "evalue": "can only concatenate str (not \"int\") to str",
     "output_type": "error",
     "traceback": [
      "\u001b[0;31m---------------------------------------------------------------------------\u001b[0m",
      "\u001b[0;31mTypeError\u001b[0m                                 Traceback (most recent call last)",
      "Cell \u001b[0;32mIn[22], line 1\u001b[0m\n\u001b[0;32m----> 1\u001b[0m \u001b[38;5;124m'\u001b[39m\u001b[38;5;124m3 + 4 is \u001b[39m\u001b[38;5;124m'\u001b[39m \u001b[38;5;241m+\u001b[39m \u001b[38;5;241m3\u001b[39m \u001b[38;5;241m+\u001b[39m \u001b[38;5;241m4\u001b[39m\n",
      "\u001b[0;31mTypeError\u001b[0m: can only concatenate str (not \"int\") to str"
     ]
    }
   ],
   "source": [
    "'3 + 4 is ' + 3 + 4\n"
   ]
  },
  {
   "cell_type": "code",
   "execution_count": 23,
   "id": "f10bb766",
   "metadata": {},
   "outputs": [
    {
     "data": {
      "text/plain": [
       "False"
      ]
     },
     "execution_count": 23,
     "metadata": {},
     "output_type": "execute_result"
    }
   ],
   "source": [
    "0 < 0\n"
   ]
  },
  {
   "cell_type": "code",
   "execution_count": 24,
   "id": "ffa3fbc2",
   "metadata": {},
   "outputs": [
    {
     "data": {
      "text/plain": [
       "False"
      ]
     },
     "execution_count": 24,
     "metadata": {},
     "output_type": "execute_result"
    }
   ],
   "source": [
    "'False' == False\n"
   ]
  },
  {
   "cell_type": "code",
   "execution_count": 25,
   "id": "3dfb1d57",
   "metadata": {},
   "outputs": [
    {
     "data": {
      "text/plain": [
       "False"
      ]
     },
     "execution_count": 25,
     "metadata": {},
     "output_type": "execute_result"
    }
   ],
   "source": [
    "True == 'True'\n"
   ]
  },
  {
   "cell_type": "code",
   "execution_count": 26,
   "id": "af7e0edc",
   "metadata": {},
   "outputs": [
    {
     "data": {
      "text/plain": [
       "True"
      ]
     },
     "execution_count": 26,
     "metadata": {},
     "output_type": "execute_result"
    }
   ],
   "source": [
    "5 >= -5\n"
   ]
  },
  {
   "cell_type": "code",
   "execution_count": 27,
   "id": "e9f8ced9",
   "metadata": {},
   "outputs": [
    {
     "data": {
      "text/plain": [
       "True"
      ]
     },
     "execution_count": 27,
     "metadata": {},
     "output_type": "execute_result"
    }
   ],
   "source": [
    "True or \"42\"\n"
   ]
  },
  {
   "cell_type": "code",
   "execution_count": 28,
   "id": "f1a5a5a1",
   "metadata": {},
   "outputs": [
    {
     "data": {
      "text/plain": [
       "1"
      ]
     },
     "execution_count": 28,
     "metadata": {},
     "output_type": "execute_result"
    }
   ],
   "source": [
    "6 % 5\n"
   ]
  },
  {
   "cell_type": "code",
   "execution_count": 29,
   "id": "86671f49",
   "metadata": {},
   "outputs": [
    {
     "data": {
      "text/plain": [
       "False"
      ]
     },
     "execution_count": 29,
     "metadata": {},
     "output_type": "execute_result"
    }
   ],
   "source": [
    "5 < 4 and 1 == 1\n"
   ]
  },
  {
   "cell_type": "code",
   "execution_count": 30,
   "id": "6b4e9aff",
   "metadata": {},
   "outputs": [
    {
     "data": {
      "text/plain": [
       "False"
      ]
     },
     "execution_count": 30,
     "metadata": {},
     "output_type": "execute_result"
    }
   ],
   "source": [
    "'codeup' == 'codeup' and 'codeup' == 'Codeup'\n"
   ]
  },
  {
   "cell_type": "code",
   "execution_count": 31,
   "id": "788f6297",
   "metadata": {},
   "outputs": [
    {
     "ename": "SyntaxError",
     "evalue": "invalid syntax (3850088429.py, line 1)",
     "output_type": "error",
     "traceback": [
      "\u001b[0;36m  Cell \u001b[0;32mIn[31], line 1\u001b[0;36m\u001b[0m\n\u001b[0;31m    4 >= 0 and 1 !== '1'\u001b[0m\n\u001b[0m                   ^\u001b[0m\n\u001b[0;31mSyntaxError\u001b[0m\u001b[0;31m:\u001b[0m invalid syntax\n"
     ]
    }
   ],
   "source": [
    "4 >= 0 and 1 !== '1'\n"
   ]
  },
  {
   "cell_type": "code",
   "execution_count": 32,
   "id": "5a52e691",
   "metadata": {},
   "outputs": [
    {
     "data": {
      "text/plain": [
       "True"
      ]
     },
     "execution_count": 32,
     "metadata": {},
     "output_type": "execute_result"
    }
   ],
   "source": [
    "6 % 3 == 0\n"
   ]
  },
  {
   "cell_type": "code",
   "execution_count": 33,
   "id": "25dede34",
   "metadata": {},
   "outputs": [
    {
     "data": {
      "text/plain": [
       "True"
      ]
     },
     "execution_count": 33,
     "metadata": {},
     "output_type": "execute_result"
    }
   ],
   "source": [
    "5 % 2 != 0\n"
   ]
  },
  {
   "cell_type": "code",
   "execution_count": 34,
   "id": "bd22e6f2",
   "metadata": {},
   "outputs": [
    {
     "ename": "TypeError",
     "evalue": "can only concatenate list (not \"int\") to list",
     "output_type": "error",
     "traceback": [
      "\u001b[0;31m---------------------------------------------------------------------------\u001b[0m",
      "\u001b[0;31mTypeError\u001b[0m                                 Traceback (most recent call last)",
      "Cell \u001b[0;32mIn[34], line 1\u001b[0m\n\u001b[0;32m----> 1\u001b[0m [\u001b[38;5;241m1\u001b[39m] \u001b[38;5;241m+\u001b[39m \u001b[38;5;241m2\u001b[39m\n",
      "\u001b[0;31mTypeError\u001b[0m: can only concatenate list (not \"int\") to list"
     ]
    }
   ],
   "source": [
    "[1] + 2\n"
   ]
  },
  {
   "cell_type": "code",
   "execution_count": 35,
   "id": "d9c025d1",
   "metadata": {},
   "outputs": [
    {
     "data": {
      "text/plain": [
       "[1, 2]"
      ]
     },
     "execution_count": 35,
     "metadata": {},
     "output_type": "execute_result"
    }
   ],
   "source": [
    "[1] + [2]\n"
   ]
  },
  {
   "cell_type": "code",
   "execution_count": 36,
   "id": "7877dc11",
   "metadata": {},
   "outputs": [
    {
     "data": {
      "text/plain": [
       "[1, 1]"
      ]
     },
     "execution_count": 36,
     "metadata": {},
     "output_type": "execute_result"
    }
   ],
   "source": [
    "[1] * 2\n"
   ]
  },
  {
   "cell_type": "code",
   "execution_count": 37,
   "id": "4f67866b",
   "metadata": {},
   "outputs": [
    {
     "data": {
      "text/plain": [
       "True"
      ]
     },
     "execution_count": 37,
     "metadata": {},
     "output_type": "execute_result"
    }
   ],
   "source": [
    "[] + [] == []\n"
   ]
  },
  {
   "cell_type": "code",
   "execution_count": 38,
   "id": "84c75ad7",
   "metadata": {},
   "outputs": [
    {
     "ename": "TypeError",
     "evalue": "unsupported operand type(s) for +: 'dict' and 'dict'",
     "output_type": "error",
     "traceback": [
      "\u001b[0;31m---------------------------------------------------------------------------\u001b[0m",
      "\u001b[0;31mTypeError\u001b[0m                                 Traceback (most recent call last)",
      "Cell \u001b[0;32mIn[38], line 1\u001b[0m\n\u001b[0;32m----> 1\u001b[0m {} \u001b[38;5;241m+\u001b[39m {}\n",
      "\u001b[0;31mTypeError\u001b[0m: unsupported operand type(s) for +: 'dict' and 'dict'"
     ]
    }
   ],
   "source": [
    "{} + {}\n"
   ]
  },
  {
   "cell_type": "code",
   "execution_count": 1,
   "id": "c7eac78e",
   "metadata": {},
   "outputs": [],
   "source": [
    "#4You have rented some movies for your kids:\n",
    "\n",
    "#The Little Mermaid for 3 days\n",
    "#Brother Bear for 5 days\n",
    "#Hercules for 1 day\n",
    "#If the daily fee to rent a movie is 3 dollars, how much will you have to pay?\n",
    "\n",
    "the_little_mermaid_days = 3\n",
    "brother_bear_days = 5\n",
    "hercules_days = 1\n",
    "daily_rental_fee = 3"
   ]
  },
  {
   "cell_type": "code",
   "execution_count": 2,
   "id": "0ddf3ea5",
   "metadata": {},
   "outputs": [],
   "source": [
    "total_cost = (the_little_mermaid_days * brother_bear_days * hercules_days * daily_rental_fee)"
   ]
  },
  {
   "cell_type": "code",
   "execution_count": 3,
   "id": "42dd8b25",
   "metadata": {
    "scrolled": true
   },
   "outputs": [
    {
     "name": "stdout",
     "output_type": "stream",
     "text": [
      "45\n"
     ]
    }
   ],
   "source": [
    "print(total_cost)"
   ]
  },
  {
   "cell_type": "code",
   "execution_count": null,
   "id": "39f76d2c",
   "metadata": {},
   "outputs": [],
   "source": [
    "#5. Suppose you're working as a contractor for 3 companies: Google, Amazon and Facebook.\n",
    "\n",
    "#They pay you the following hourly rates:\n",
    "\n",
    "#Google: 400 dollars\n",
    "#Amazon: 380 dollars\n",
    "#Facebook: 350 dollars\n",
    "#This week you worked: 10 hours for Facebook, 6 hours for Google, and 4 hours for Amazon.\n",
    "\n",
    "#How much will you receive in payment for this week?\n",
    "\n"
   ]
  },
  {
   "cell_type": "code",
   "execution_count": 4,
   "id": "dbed63ae",
   "metadata": {},
   "outputs": [],
   "source": [
    "google_dph = 400\n",
    "amazon_dph = 380\n",
    "facebook_dph = 350\n",
    "\n",
    "google_hours = 6\n",
    "amazon_hours = 4\n",
    "facebook_hours = 10\n"
   ]
  },
  {
   "cell_type": "code",
   "execution_count": 5,
   "id": "720fe2da",
   "metadata": {},
   "outputs": [],
   "source": [
    "weekly_payment = ((google_dph * google_hours) + (amazon_dph * amazon_hours) + (facebook_dph * facebook_hours))"
   ]
  },
  {
   "cell_type": "code",
   "execution_count": 6,
   "id": "cdbdc739",
   "metadata": {},
   "outputs": [
    {
     "name": "stdout",
     "output_type": "stream",
     "text": [
      "7420\n"
     ]
    }
   ],
   "source": [
    "print(weekly_payment)"
   ]
  },
  {
   "cell_type": "code",
   "execution_count": null,
   "id": "ab157feb",
   "metadata": {},
   "outputs": [],
   "source": [
    "#6. A student can be enrolled in a class only if the class is not full and \n",
    "the class schedule does not conflict with her current schedule."
   ]
  },
  {
   "cell_type": "code",
   "execution_count": 8,
   "id": "e0e01053",
   "metadata": {},
   "outputs": [],
   "source": [
    "class_is_not_full = True\n",
    "no_schedule_conflicts = True\n",
    "student_can_attend = class_is_not_full and no_schedule_conflicts"
   ]
  },
  {
   "cell_type": "code",
   "execution_count": 9,
   "id": "cfa4f3c7",
   "metadata": {},
   "outputs": [
    {
     "name": "stdout",
     "output_type": "stream",
     "text": [
      "True\n"
     ]
    }
   ],
   "source": [
    "print(student_can_attend)"
   ]
  },
  {
   "cell_type": "code",
   "execution_count": null,
   "id": "5f38827b",
   "metadata": {},
   "outputs": [],
   "source": [
    "#7. A product offer can be applied only if a customer buys more than 2 items, and the offer has not expired.\n",
    "Premium members do not need to buy a specific amount of products."
   ]
  },
  {
   "cell_type": "code",
   "execution_count": 10,
   "id": "b2a6cb4e",
   "metadata": {},
   "outputs": [],
   "source": [
    "two_or_more_items = True\n",
    "offer_has_not_expired = True\n",
    "premium_member = True\n",
    "\n",
    "product_offer_applied = two_or_more_items or premium_member and offer_has_not_expired"
   ]
  },
  {
   "cell_type": "code",
   "execution_count": 11,
   "id": "634f6aa6",
   "metadata": {},
   "outputs": [
    {
     "name": "stdout",
     "output_type": "stream",
     "text": [
      "True\n"
     ]
    }
   ],
   "source": [
    "print(product_offer_applied)"
   ]
  },
  {
   "cell_type": "code",
   "execution_count": 14,
   "id": "e4a7384f",
   "metadata": {},
   "outputs": [],
   "source": [
    "#7 Use the following code to follow the instructions below:\n",
    "\n",
    "\n",
    "username = 'codeup'\n",
    "password = 'notastrongpassword'\n",
    "#Create a variable that holds a boolean value for each of the following conditions:\n",
    "\n",
    "#The password must be at least 5 characters\n",
    "#The username must be no more than 20 characters\n",
    "#The password must not be the same as the username\n",
    "#Bonus Neither the username or password can start nor end with whitespace"
   ]
  },
  {
   "cell_type": "code",
   "execution_count": 15,
   "id": "73acd2da",
   "metadata": {},
   "outputs": [],
   "source": [
    "password_length = len(password) >= 5"
   ]
  },
  {
   "cell_type": "code",
   "execution_count": 16,
   "id": "f7aa03d7",
   "metadata": {},
   "outputs": [
    {
     "name": "stdout",
     "output_type": "stream",
     "text": [
      "password length is sufficient:  True\n"
     ]
    }
   ],
   "source": [
    "print(\"password length is sufficient: \", password_length)"
   ]
  },
  {
   "cell_type": "code",
   "execution_count": 17,
   "id": "cca1818c",
   "metadata": {},
   "outputs": [],
   "source": [
    "username_length = len(username) <= 20"
   ]
  },
  {
   "cell_type": "code",
   "execution_count": 18,
   "id": "8114c9dd",
   "metadata": {},
   "outputs": [
    {
     "name": "stdout",
     "output_type": "stream",
     "text": [
      "username length is sufficient:  True\n"
     ]
    }
   ],
   "source": [
    "print(\"username length is sufficient: \", username_length)"
   ]
  },
  {
   "cell_type": "code",
   "execution_count": 19,
   "id": "244f861e",
   "metadata": {},
   "outputs": [],
   "source": [
    "diff_username_password = username != password"
   ]
  },
  {
   "cell_type": "code",
   "execution_count": 20,
   "id": "b9d94b7f",
   "metadata": {},
   "outputs": [
    {
     "name": "stdout",
     "output_type": "stream",
     "text": [
      "username and password are not the same:  True\n"
     ]
    }
   ],
   "source": [
    "print(\"username and password are not the same: \", diff_username_password)"
   ]
  },
  {
   "cell_type": "code",
   "execution_count": 21,
   "id": "80b7a7fa",
   "metadata": {},
   "outputs": [],
   "source": [
    "no_whitespace = password.strip() + username.strip() == password + username"
   ]
  },
  {
   "cell_type": "code",
   "execution_count": 22,
   "id": "59fe892a",
   "metadata": {},
   "outputs": [
    {
     "name": "stdout",
     "output_type": "stream",
     "text": [
      "username and password do not start or end with whitespace:  True\n"
     ]
    }
   ],
   "source": [
    "print(\"username and password do not start or end with whitespace: \", no_whitespace)"
   ]
  },
  {
   "cell_type": "code",
   "execution_count": 23,
   "id": "37260857",
   "metadata": {},
   "outputs": [],
   "source": [
    "sufficient_password = password_length and username_length and diff_username_password and no_whitespace"
   ]
  },
  {
   "cell_type": "code",
   "execution_count": 24,
   "id": "0a74e4d9",
   "metadata": {},
   "outputs": [
    {
     "name": "stdout",
     "output_type": "stream",
     "text": [
      "True\n"
     ]
    }
   ],
   "source": [
    "print(sufficient_password)"
   ]
  },
  {
   "cell_type": "code",
   "execution_count": null,
   "id": "7b98a1f6",
   "metadata": {},
   "outputs": [],
   "source": []
  }
 ],
 "metadata": {
  "kernelspec": {
   "display_name": "Python 3 (ipykernel)",
   "language": "python",
   "name": "python3"
  },
  "language_info": {
   "codemirror_mode": {
    "name": "ipython",
    "version": 3
   },
   "file_extension": ".py",
   "mimetype": "text/x-python",
   "name": "python",
   "nbconvert_exporter": "python",
   "pygments_lexer": "ipython3",
   "version": "3.11.5"
  }
 },
 "nbformat": 4,
 "nbformat_minor": 5
}
