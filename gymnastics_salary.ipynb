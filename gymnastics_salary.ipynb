{
 "cells": [
  {
   "cell_type": "code",
   "execution_count": 32,
   "id": "e4e9763e",
   "metadata": {},
   "outputs": [
    {
     "name": "stdout",
     "output_type": "stream",
     "text": [
      "Monthly Gymnastics Income: $ 1003\n"
     ]
    }
   ],
   "source": [
    "tod_one_tm = 1\n",
    "sib_one_dw = 2\n",
    "sib_two_dw = 0\n",
    "one_dw = 5\n",
    "two_dw = 5\n",
    "days_in_month_1 = 4\n",
    "days_in_month_2 = 8\n",
    "\n",
    "def calculate_monthly_income():\n",
    "   \n",
    "    rate_sib_one_dw = 21\n",
    "    rate_sib_two_dw = 18\n",
    "    rate_one_dw = 15\n",
    "    rate_two_dw = 13\n",
    "\n",
    "    income_tod_one_tw = tod_one_tm * rate_one_dw \n",
    "    income_sib_one_dw = sib_one_dw * rate_sib_one_dw * days_in_month_1\n",
    "    income_sib_two_dw = sib_two_dw * rate_sib_two_dw * days_in_month_2\n",
    "    income_one_dw = one_dw * rate_one_dw * days_in_month_1\n",
    "    income_two_dw = two_dw * rate_two_dw * days_in_month_2\n",
    "\n",
    "    \n",
    "    total_income = income_sib_one_dw + income_sib_two_dw + income_one_dw + income_two_dw + income_tod_one_tw\n",
    "    return total_income\n",
    "\n",
    "monthly_income = calculate_monthly_income()\n",
    "print(\"Monthly Gymnastics Income:\", '$',monthly_income)\n"
   ]
  },
  {
   "cell_type": "code",
   "execution_count": null,
   "id": "c71417c8",
   "metadata": {},
   "outputs": [],
   "source": []
  }
 ],
 "metadata": {
  "kernelspec": {
   "display_name": "Python 3 (ipykernel)",
   "language": "python",
   "name": "python3"
  },
  "language_info": {
   "codemirror_mode": {
    "name": "ipython",
    "version": 3
   },
   "file_extension": ".py",
   "mimetype": "text/x-python",
   "name": "python",
   "nbconvert_exporter": "python",
   "pygments_lexer": "ipython3",
   "version": "3.11.5"
  }
 },
 "nbformat": 4,
 "nbformat_minor": 5
}
