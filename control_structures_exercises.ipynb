{
 "cells": [
  {
   "cell_type": "markdown",
   "id": "446b259f",
   "metadata": {},
   "source": [
    "1. Conditional Basics\n",
    "\n",
    "Prompt the user for a day of the week, print out whether the day is Monday or not\n",
    "\n",
    "Prompt the user for a day of the week, print out whether the day is a weekday or a weekend\n",
    "\n",
    "Calculate a weekly paycheck, accounting for overtime pay. Create variables and make up values for:\n",
    "\n",
    "The number of hours worked in one week\n",
    "The hourly rate\n",
    "For calculating pay:\n",
    "\n",
    "For working 40 hours or less, each hour is paid at the hourly rate\n",
    "For working more than 40 hours\n",
    "\n",
    "the first 40 hours are paid at the hourly rate\n",
    "\n",
    "each hour after 40 is paid at time and a half (hourly rate * 1.5)"
   ]
  },
  {
   "cell_type": "code",
   "execution_count": 3,
   "id": "f1b42a2a",
   "metadata": {},
   "outputs": [
    {
     "name": "stdout",
     "output_type": "stream",
     "text": [
      "What day of the week is it? (spell it out)monday\n",
      "Today is Monday.\n"
     ]
    }
   ],
   "source": [
    "day_of_the_week = input(\"What day of the week is it? (spell it out)\")\n",
    "if day_of_the_week.lower() == \"monday\":\n",
    "    print(\"Today is Monday.\")\n",
    "else:\n",
    "    print(\"Today is not Monday.\")"
   ]
  },
  {
   "cell_type": "code",
   "execution_count": 8,
   "id": "3e40470d",
   "metadata": {},
   "outputs": [
    {
     "name": "stdout",
     "output_type": "stream",
     "text": [
      "What day of the week is it? (spell it out)saturday\n",
      "Enjoy your weekend!\n"
     ]
    }
   ],
   "source": [
    "weekend_yet = input(\"What day of the week is it? (spell it out)\")\n",
    "if weekend_yet.lower() == \"saturday\" or weekend_yet.lower() == \"sunday\":\n",
    "    print(\"Enjoy your weekend!\")\n",
    "elif weekend_yet.lower() == \"monday\" or weekend_yet.lower() == \"tuesday\" or weekend_yet.lower() == \"wednesday\" or weekend_yet.lower() == \"thursday\" or weekend_yet.lower() == \"friday\":\n",
    "    print(\"Still working.\")\n",
    "else:\n",
    "    print(\"Please enter the day of the week.\")\n",
    "    "
   ]
  },
  {
   "cell_type": "code",
   "execution_count": 9,
   "id": "31c7a143",
   "metadata": {},
   "outputs": [],
   "source": [
    "weekly_hours_worked = 45\n",
    "hourly_rate = 20"
   ]
  },
  {
   "cell_type": "code",
   "execution_count": 11,
   "id": "b8a05408",
   "metadata": {},
   "outputs": [
    {
     "name": "stdout",
     "output_type": "stream",
     "text": [
      "Your weekly pay is 950.0\n"
     ]
    }
   ],
   "source": [
    "if weekly_hours_worked <= 40:\n",
    "    week_paycheck = weekly_hours_worked * hourly_rate\n",
    "    print(\"Your weekly pay is\", week_paycheck)\n",
    "else:\n",
    "    overtime_hours = weekly_hours_worked - 40\n",
    "    week_paycheck = overtime_hours * hourly_rate * 1.5 + 40 * hourly_rate\n",
    "    print(\"Your weekly pay is\", week_paycheck)"
   ]
  },
  {
   "cell_type": "markdown",
   "id": "a06a0f54",
   "metadata": {},
   "source": [
    "2. Loop Basics\n",
    "\n",
    "While\n",
    "\n",
    "Create an integer variable i with a value of 5. Create a while loop that runs so long as i is less than or equal to 15. Each loop iteration, output the current value of i, then increment i by one.\n",
    "\n",
    "Create a while loop that will count by 2's starting with 0 and ending at 100. Follow each number with a new line.\n",
    "\n",
    "Create a while loop that starts at 2, and displays the number squared on each line while the number is less than 1,000,000.\n",
    "\n",
    "Write a while loop that uses print to create the output shown below.\n",
    "\n",
    "100\n",
    "95\n",
    "90\n",
    "85\n",
    "80\n",
    "75\n",
    "70\n",
    "65\n",
    "60\n",
    "55\n",
    "50\n",
    "45\n",
    "40\n",
    "35\n",
    "30\n",
    "25\n",
    "20\n",
    "15\n",
    "10\n",
    "5\n"
   ]
  },
  {
   "cell_type": "code",
   "execution_count": 13,
   "id": "037de83f",
   "metadata": {
    "scrolled": true
   },
   "outputs": [
    {
     "name": "stdout",
     "output_type": "stream",
     "text": [
      "5\n",
      "6\n",
      "7\n",
      "8\n",
      "9\n",
      "10\n",
      "11\n",
      "12\n",
      "13\n",
      "14\n",
      "15\n"
     ]
    }
   ],
   "source": [
    "i = 5\n",
    "while i <= 15:\n",
    "    print(i)\n",
    "    i += 1"
   ]
  },
  {
   "cell_type": "code",
   "execution_count": 14,
   "id": "8c7b2232",
   "metadata": {},
   "outputs": [
    {
     "name": "stdout",
     "output_type": "stream",
     "text": [
      "0\n",
      "2\n",
      "4\n",
      "6\n",
      "8\n",
      "10\n",
      "12\n",
      "14\n",
      "16\n",
      "18\n",
      "20\n",
      "22\n",
      "24\n",
      "26\n",
      "28\n",
      "30\n",
      "32\n",
      "34\n",
      "36\n",
      "38\n",
      "40\n",
      "42\n",
      "44\n",
      "46\n",
      "48\n",
      "50\n",
      "52\n",
      "54\n",
      "56\n",
      "58\n",
      "60\n",
      "62\n",
      "64\n",
      "66\n",
      "68\n",
      "70\n",
      "72\n",
      "74\n",
      "76\n",
      "78\n",
      "80\n",
      "82\n",
      "84\n",
      "86\n",
      "88\n",
      "90\n",
      "92\n",
      "94\n",
      "96\n",
      "98\n",
      "100\n"
     ]
    }
   ],
   "source": [
    "i = 0\n",
    "while i <= 100:\n",
    "    print(i)\n",
    "    i += 2"
   ]
  },
  {
   "cell_type": "code",
   "execution_count": 15,
   "id": "363d397d",
   "metadata": {},
   "outputs": [
    {
     "name": "stdout",
     "output_type": "stream",
     "text": [
      "2\n",
      "4\n",
      "16\n",
      "256\n",
      "65536\n"
     ]
    }
   ],
   "source": [
    "i = 2\n",
    "while i < 1_000_000:\n",
    "    print(i)\n",
    "    i = i ** 2"
   ]
  },
  {
   "cell_type": "code",
   "execution_count": 16,
   "id": "417454e6",
   "metadata": {},
   "outputs": [
    {
     "name": "stdout",
     "output_type": "stream",
     "text": [
      "100\n",
      "95\n",
      "90\n",
      "85\n",
      "80\n",
      "75\n",
      "70\n",
      "65\n",
      "60\n",
      "55\n",
      "50\n",
      "45\n",
      "40\n",
      "35\n",
      "30\n",
      "25\n",
      "20\n",
      "15\n",
      "10\n",
      "5\n"
     ]
    }
   ],
   "source": [
    "i = 100\n",
    "while i > 0:\n",
    "    print(i)\n",
    "    i -= 5"
   ]
  },
  {
   "cell_type": "markdown",
   "id": "737a2e43",
   "metadata": {},
   "source": [
    "For Loops\n",
    "\n",
    "Write some code using a for loop that prompts the user for a number, then shows a multiplication table up through 10 for that number."
   ]
  },
  {
   "cell_type": "code",
   "execution_count": 18,
   "id": "d7f87d65",
   "metadata": {},
   "outputs": [
    {
     "name": "stdout",
     "output_type": "stream",
     "text": [
      "Enter a number: 5\n",
      "5 x 1 = 5\n",
      "5 x 2 = 10\n",
      "5 x 3 = 15\n",
      "5 x 4 = 20\n",
      "5 x 5 = 25\n",
      "5 x 6 = 30\n",
      "5 x 7 = 35\n",
      "5 x 8 = 40\n",
      "5 x 9 = 45\n",
      "5 x 10 = 50\n"
     ]
    }
   ],
   "source": [
    "user_number = int(input(\"Enter a number: \"))\n",
    "\n",
    "for x in range(10):\n",
    "    print(user_number, \"x\", x + 1, \"=\", user_number * (x + 1))"
   ]
  },
  {
   "cell_type": "markdown",
   "id": "747b1156",
   "metadata": {},
   "source": [
    "Create a for loop that uses print to create the output shown below\n",
    "\n",
    "1\n",
    "22\n",
    "333\n",
    "4444\n",
    "55555\n",
    "666666\n",
    "7777777\n",
    "88888888\n",
    "999999999\n"
   ]
  },
  {
   "cell_type": "code",
   "execution_count": 20,
   "id": "93cb85ea",
   "metadata": {},
   "outputs": [
    {
     "name": "stdout",
     "output_type": "stream",
     "text": [
      "1\n",
      "22\n",
      "333\n",
      "4444\n",
      "55555\n",
      "666666\n",
      "7777777\n",
      "88888888\n",
      "999999999\n"
     ]
    }
   ],
   "source": [
    "for x in range(0,10):\n",
    "    for y in range(1,10):\n",
    "        if x == y:\n",
    "            print(x * str(y))"
   ]
  },
  {
   "cell_type": "markdown",
   "id": "691df373",
   "metadata": {},
   "source": [
    "break and continue\n",
    "\n",
    "Write a program that prompts the user for a positive integer. Next write a loop that prints out the numbers from the number the user entered down to 1."
   ]
  },
  {
   "cell_type": "code",
   "execution_count": 22,
   "id": "63b89453",
   "metadata": {},
   "outputs": [
    {
     "name": "stdout",
     "output_type": "stream",
     "text": [
      "Enter a positive number: 8\n",
      "Counting down from 8 to 1:\n",
      "8\n",
      "7\n",
      "6\n",
      "5\n",
      "4\n",
      "3\n",
      "2\n",
      "1\n"
     ]
    }
   ],
   "source": [
    "while True:\n",
    "    user_num = int(input(\"Enter a positive number: \"))\n",
    "    if user_num > 0:\n",
    "        break\n",
    "    else:\n",
    "        print(\"Please enter a positive number.\")\n",
    "        \n",
    "print(f\"Counting down from {user_num} to 1:\")\n",
    "while user_num >= 1:\n",
    "    print(user_num)\n",
    "    user_num -= 1\n"
   ]
  },
  {
   "cell_type": "markdown",
   "id": "1c561ad3",
   "metadata": {},
   "source": [
    "The input function can be used to prompt for input and use that input in your python code. Prompt the user to enter a positive number and write a loop that counts from 0 to that number. (Hints: note that the input function returns a string, so you'll need to convert this to a numeric type.)"
   ]
  },
  {
   "cell_type": "code",
   "execution_count": 26,
   "id": "07f19cef",
   "metadata": {},
   "outputs": [
    {
     "name": "stdout",
     "output_type": "stream",
     "text": [
      "Enter a positive number: 12\n",
      "Counting up from 0 to 12:\n",
      "0\n",
      "1\n",
      "2\n",
      "3\n",
      "4\n",
      "5\n",
      "6\n",
      "7\n",
      "8\n",
      "9\n",
      "10\n",
      "11\n",
      "12\n"
     ]
    }
   ],
   "source": [
    "while True:\n",
    "    user_num = int(input(\"Enter a positive number: \"))\n",
    "    if user_num > 0:\n",
    "        break\n",
    "    else:\n",
    "        print(\"Please enter a positive number.\")\n",
    "        \n",
    "print(f\"Counting up from 0 to {user_num}:\")\n",
    "for i in range(user_num + 1):\n",
    "    print(i)"
   ]
  },
  {
   "cell_type": "markdown",
   "id": "4f0fe18c",
   "metadata": {},
   "source": [
    "Prompt the user for an odd number between 1 and 50. Use a loop and a break statement to continue prompting the user if they enter invalid input. (Hint: use the isdigit method on strings to determine this). Use a loop and the continue statement to output all the odd numbers between 1 and 50, except for the number the user entered.\n",
    "\n",
    "Your output should look like this: Number to skip is: 27\n",
    "\n",
    "Here is an odd number: 1\n",
    "Here is an odd number: 3\n",
    "Here is an odd number: 5\n",
    "Here is an odd number: 7\n",
    "Here is an odd number: 9\n",
    "Here is an odd number: 11\n",
    "Here is an odd number: 13\n",
    "Here is an odd number: 15\n",
    "Here is an odd number: 17\n",
    "Here is an odd number: 19\n",
    "Here is an odd number: 21\n",
    "Here is an odd number: 23\n",
    "Here is an odd number: 25\n",
    "Yikes! Skipping number: 27\n",
    "Here is an odd number: 29\n",
    "Here is an odd number: 31\n",
    "Here is an odd number: 33\n",
    "Here is an odd number: 35\n",
    "Here is an odd number: 37\n",
    "Here is an odd number: 39\n",
    "Here is an odd number: 41\n",
    "Here is an odd number: 43\n",
    "Here is an odd number: 45\n",
    "Here is an odd number: 47\n",
    "Here is an odd number: 49\n"
   ]
  },
  {
   "cell_type": "code",
   "execution_count": 27,
   "id": "6aad660a",
   "metadata": {},
   "outputs": [
    {
     "name": "stdout",
     "output_type": "stream",
     "text": [
      "Enter a number between 1 and 50: 43\n",
      "Odd numbers between 1 and 50 except 43: \n",
      "1\n",
      "3\n",
      "5\n",
      "7\n",
      "9\n",
      "11\n",
      "13\n",
      "15\n",
      "17\n",
      "19\n",
      "21\n",
      "23\n",
      "25\n",
      "27\n",
      "29\n",
      "31\n",
      "33\n",
      "35\n",
      "37\n",
      "39\n",
      "41\n",
      "45\n",
      "47\n",
      "49\n"
     ]
    }
   ],
   "source": [
    "while True:\n",
    "    user_input = input(\"Enter a number between 1 and 50: \")\n",
    "    if user_input.isdigit():\n",
    "        user_input = int(user_input)\n",
    "        \n",
    "    if 1 <= user_input <= 50 and user_input % 2 == 1:\n",
    "        break\n",
    "    else:\n",
    "            print(\"Invalid input. Please enter an odd number between 1 and 50.\")\n",
    "            \n",
    "print(f\"Odd numbers between 1 and 50 except {user_input}: \")\n",
    "for i in range(1, 51):\n",
    "    if i == user_input:\n",
    "        continue  \n",
    "    if i % 2 == 1:\n",
    "        print(i)\n"
   ]
  },
  {
   "cell_type": "code",
   "execution_count": null,
   "id": "ac1aacd4",
   "metadata": {},
   "outputs": [],
   "source": []
  }
 ],
 "metadata": {
  "kernelspec": {
   "display_name": "Python 3 (ipykernel)",
   "language": "python",
   "name": "python3"
  },
  "language_info": {
   "codemirror_mode": {
    "name": "ipython",
    "version": 3
   },
   "file_extension": ".py",
   "mimetype": "text/x-python",
   "name": "python",
   "nbconvert_exporter": "python",
   "pygments_lexer": "ipython3",
   "version": "3.11.5"
  }
 },
 "nbformat": 4,
 "nbformat_minor": 5
}
