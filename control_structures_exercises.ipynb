{
 "cells": [
  {
   "cell_type": "markdown",
   "id": "4351538e",
   "metadata": {},
   "source": [
    "1. Conditional Basics\n",
    "\n",
    "Prompt the user for a day of the week, print out whether the day is Monday or not\n",
    "\n",
    "Prompt the user for a day of the week, print out whether the day is a weekday or a weekend\n",
    "\n",
    "Calculate a weekly paycheck, accounting for overtime pay. Create variables and make up values for:\n",
    "\n",
    "The number of hours worked in one week\n",
    "The hourly rate\n",
    "For calculating pay:\n",
    "\n",
    "For working 40 hours or less, each hour is paid at the hourly rate\n",
    "For working more than 40 hours\n",
    "\n",
    "the first 40 hours are paid at the hourly rate\n",
    "\n",
    "each hour after 40 is paid at time and a half (hourly rate * 1.5)"
   ]
  },
  {
   "cell_type": "code",
   "execution_count": 1,
   "id": "97e65146",
   "metadata": {
    "scrolled": false
   },
   "outputs": [
    {
     "name": "stdout",
     "output_type": "stream",
     "text": [
      "What day of the week is it? (spell it out)monday\n",
      "Today is Monday.\n"
     ]
    }
   ],
   "source": [
    "day_of_the_week = input(\"What day of the week is it? (spell it out)\")\n",
    "if day_of_the_week.lower() == \"monday\":\n",
    "    print(\"Today is Monday.\")\n",
    "else:\n",
    "    print(\"Today is not Monday.\")"
   ]
  },
  {
   "cell_type": "code",
   "execution_count": 2,
   "id": "673cc941",
   "metadata": {},
   "outputs": [
    {
     "name": "stdout",
     "output_type": "stream",
     "text": [
      "What day of the week is it? (spell it out)saturday\n",
      "Enjoy your weekend!\n"
     ]
    }
   ],
   "source": [
    "weekend_yet = input(\"What day of the week is it? (spell it out)\")\n",
    "if weekend_yet.lower() == \"saturday\" or weekend_yet.lower() == \"sunday\":\n",
    "    print(\"Enjoy your weekend!\")\n",
    "elif weekend_yet.lower() == \"monday\" or weekend_yet.lower() == \"tuesday\" or weekend_yet.lower() == \"wednesday\" or weekend_yet.lower() == \"thursday\" or weekend_yet.lower() == \"friday\":\n",
    "    print(\"Still working.\")\n",
    "else:\n",
    "    print(\"Please enter the day of the week.\")\n",
    "    "
   ]
  },
  {
   "cell_type": "code",
   "execution_count": 3,
   "id": "56ad032b",
   "metadata": {},
   "outputs": [],
   "source": [
    "weekly_hours_worked = 45\n",
    "hourly_rate = 20"
   ]
  },
  {
   "cell_type": "code",
   "execution_count": 4,
   "id": "561d6d51",
   "metadata": {},
   "outputs": [
    {
     "name": "stdout",
     "output_type": "stream",
     "text": [
      "Your weekly pay is 950.0\n"
     ]
    }
   ],
   "source": [
    "if weekly_hours_worked <= 40:\n",
    "    week_paycheck = weekly_hours_worked * hourly_rate\n",
    "    print(\"Your weekly pay is\", week_paycheck)\n",
    "else:\n",
    "    overtime_hours = weekly_hours_worked - 40\n",
    "    week_paycheck = overtime_hours * hourly_rate * 1.5 + 40 * hourly_rate\n",
    "    print(\"Your weekly pay is\", week_paycheck)"
   ]
  },
  {
   "cell_type": "markdown",
   "id": "c3df1388",
   "metadata": {},
   "source": [
    "2. Loop Basics\n",
    "\n",
    "While\n",
    "\n",
    "Create an integer variable i with a value of 5. Create a while loop that runs so long as i is less than or equal to 15. Each loop iteration, output the current value of i, then increment i by one.\n",
    "\n",
    "Create a while loop that will count by 2's starting with 0 and ending at 100. Follow each number with a new line.\n",
    "\n",
    "Create a while loop that starts at 2, and displays the number squared on each line while the number is less than 1,000,000.\n",
    "\n",
    "Write a while loop that uses print to create the output shown below.\n",
    "\n",
    "100\n",
    "95\n",
    "90\n",
    "85\n",
    "80\n",
    "75\n",
    "70\n",
    "65\n",
    "60\n",
    "55\n",
    "50\n",
    "45\n",
    "40\n",
    "35\n",
    "30\n",
    "25\n",
    "20\n",
    "15\n",
    "10\n",
    "5\n"
   ]
  },
  {
   "cell_type": "code",
   "execution_count": 13,
   "id": "f2a849ca",
   "metadata": {
    "scrolled": true
   },
   "outputs": [
    {
     "name": "stdout",
     "output_type": "stream",
     "text": [
      "5\n",
      "6\n",
      "7\n",
      "8\n",
      "9\n",
      "10\n",
      "11\n",
      "12\n",
      "13\n",
      "14\n",
      "15\n"
     ]
    }
   ],
   "source": [
    "i = 5\n",
    "while i <= 15:\n",
    "    print(i)\n",
    "    i += 1"
   ]
  },
  {
   "cell_type": "code",
   "execution_count": 14,
   "id": "e7d32d52",
   "metadata": {},
   "outputs": [
    {
     "name": "stdout",
     "output_type": "stream",
     "text": [
      "0\n",
      "2\n",
      "4\n",
      "6\n",
      "8\n",
      "10\n",
      "12\n",
      "14\n",
      "16\n",
      "18\n",
      "20\n",
      "22\n",
      "24\n",
      "26\n",
      "28\n",
      "30\n",
      "32\n",
      "34\n",
      "36\n",
      "38\n",
      "40\n",
      "42\n",
      "44\n",
      "46\n",
      "48\n",
      "50\n",
      "52\n",
      "54\n",
      "56\n",
      "58\n",
      "60\n",
      "62\n",
      "64\n",
      "66\n",
      "68\n",
      "70\n",
      "72\n",
      "74\n",
      "76\n",
      "78\n",
      "80\n",
      "82\n",
      "84\n",
      "86\n",
      "88\n",
      "90\n",
      "92\n",
      "94\n",
      "96\n",
      "98\n",
      "100\n"
     ]
    }
   ],
   "source": [
    "i = 0\n",
    "while i <= 100:\n",
    "    print(i)\n",
    "    i += 2"
   ]
  },
  {
   "cell_type": "code",
   "execution_count": 15,
   "id": "7bdba76d",
   "metadata": {},
   "outputs": [
    {
     "name": "stdout",
     "output_type": "stream",
     "text": [
      "2\n",
      "4\n",
      "16\n",
      "256\n",
      "65536\n"
     ]
    }
   ],
   "source": [
    "i = 2\n",
    "while i < 1_000_000:\n",
    "    print(i)\n",
    "    i = i ** 2"
   ]
  },
  {
   "cell_type": "code",
   "execution_count": 16,
   "id": "87a339a3",
   "metadata": {},
   "outputs": [
    {
     "name": "stdout",
     "output_type": "stream",
     "text": [
      "100\n",
      "95\n",
      "90\n",
      "85\n",
      "80\n",
      "75\n",
      "70\n",
      "65\n",
      "60\n",
      "55\n",
      "50\n",
      "45\n",
      "40\n",
      "35\n",
      "30\n",
      "25\n",
      "20\n",
      "15\n",
      "10\n",
      "5\n"
     ]
    }
   ],
   "source": [
    "i = 100\n",
    "while i > 0:\n",
    "    print(i)\n",
    "    i -= 5"
   ]
  },
  {
   "cell_type": "markdown",
   "id": "dff5796e",
   "metadata": {},
   "source": [
    "For Loops\n",
    "\n",
    "Write some code using a for loop that prompts the user for a number, then shows a multiplication table up through 10 for that number."
   ]
  },
  {
   "cell_type": "code",
   "execution_count": 6,
   "id": "fa2d8dc1",
   "metadata": {},
   "outputs": [
    {
     "name": "stdout",
     "output_type": "stream",
     "text": [
      "Enter a number: 67\n",
      "67 x 1 = 67\n",
      "67 x 2 = 134\n",
      "67 x 3 = 201\n",
      "67 x 4 = 268\n",
      "67 x 5 = 335\n",
      "67 x 6 = 402\n",
      "67 x 7 = 469\n",
      "67 x 8 = 536\n",
      "67 x 9 = 603\n",
      "67 x 10 = 670\n"
     ]
    }
   ],
   "source": [
    "user_number = int(input(\"Enter a number: \"))\n",
    "\n",
    "for x in range(10):\n",
    "    print(user_number, \"x\", x + 1, \"=\", user_number * (x + 1))"
   ]
  },
  {
   "cell_type": "markdown",
   "id": "a8edbeed",
   "metadata": {},
   "source": [
    "Create a for loop that uses print to create the output shown below\n",
    "\n",
    "1\n",
    "22\n",
    "333\n",
    "4444\n",
    "55555\n",
    "666666\n",
    "7777777\n",
    "88888888\n",
    "999999999\n"
   ]
  },
  {
   "cell_type": "code",
   "execution_count": 7,
   "id": "f8c84383",
   "metadata": {},
   "outputs": [
    {
     "name": "stdout",
     "output_type": "stream",
     "text": [
      "1\n",
      "22\n",
      "333\n",
      "4444\n",
      "55555\n",
      "666666\n",
      "7777777\n",
      "88888888\n",
      "999999999\n"
     ]
    }
   ],
   "source": [
    "for x in range(0,10):\n",
    "    for y in range(1,10):\n",
    "        if x == y:\n",
    "            print(x * str(y))"
   ]
  },
  {
   "cell_type": "markdown",
   "id": "da792b72",
   "metadata": {},
   "source": [
    "break and continue\n",
    "\n",
    "Write a program that prompts the user for a positive integer. Next write a loop that prints out the numbers from the number the user entered down to 1."
   ]
  },
  {
   "cell_type": "code",
   "execution_count": 9,
   "id": "615ef6f2",
   "metadata": {},
   "outputs": [
    {
     "name": "stdout",
     "output_type": "stream",
     "text": [
      "Enter a positive number: 12\n",
      "Counting down from 12 to 1:\n",
      "12\n",
      "11\n",
      "10\n",
      "9\n",
      "8\n",
      "7\n",
      "6\n",
      "5\n",
      "4\n",
      "3\n",
      "2\n",
      "1\n"
     ]
    }
   ],
   "source": [
    "while True:\n",
    "    user_num = int(input(\"Enter a positive number: \"))\n",
    "    if user_num > 0:\n",
    "        break\n",
    "    else:\n",
    "        print(\"Please enter a positive number.\")\n",
    "        \n",
    "print(f\"Counting down from {user_num} to 1:\")\n",
    "while user_num >= 1:\n",
    "    print(user_num)\n",
    "    user_num -= 1\n"
   ]
  },
  {
   "cell_type": "code",
   "execution_count": null,
   "id": "6dc2b02f",
   "metadata": {},
   "outputs": [],
   "source": [
    "The input function can be used to prompt for input and use that input in your python code. Prompt the user to enter a positive number and write a loop that counts from 0 to that number. (Hints: note that the input function returns a string, so you'll need to convert this to a numeric type.)"
   ]
  },
  {
   "cell_type": "code",
   "execution_count": 11,
   "id": "f19811b7",
   "metadata": {},
   "outputs": [
    {
     "name": "stdout",
     "output_type": "stream",
     "text": [
      "Enter a positive number: 13\n",
      "Counting up from 0 to 13:\n",
      "0\n",
      "1\n",
      "2\n",
      "3\n",
      "4\n",
      "5\n",
      "6\n",
      "7\n",
      "8\n",
      "9\n",
      "10\n",
      "11\n",
      "12\n",
      "13\n"
     ]
    }
   ],
   "source": [
    "while True:\n",
    "    user_num = int(input(\"Enter a positive number: \"))\n",
    "    if user_num > 0:\n",
    "        break\n",
    "    else:\n",
    "        print(\"Please enter a positive number.\")\n",
    "        \n",
    "print(f\"Counting up from 0 to {user_num}:\")\n",
    "for i in range(user_num + 1):\n",
    "    print(i)"
   ]
  },
  {
   "cell_type": "markdown",
   "id": "615c5e33",
   "metadata": {},
   "source": [
    "Prompt the user for an odd number between 1 and 50. Use a loop and a break statement to continue prompting the user if they enter invalid input. (Hint: use the isdigit method on strings to determine this). Use a loop and the continue statement to output all the odd numbers between 1 and 50, except for the number the user entered.\n",
    "\n",
    "Your output should look like this: Number to skip is: 27\n",
    "\n",
    "Here is an odd number: 1\n",
    "Here is an odd number: 3\n",
    "Here is an odd number: 5\n",
    "Here is an odd number: 7\n",
    "Here is an odd number: 9\n",
    "Here is an odd number: 11\n",
    "Here is an odd number: 13\n",
    "Here is an odd number: 15\n",
    "Here is an odd number: 17\n",
    "Here is an odd number: 19\n",
    "Here is an odd number: 21\n",
    "Here is an odd number: 23\n",
    "Here is an odd number: 25\n",
    "Yikes! Skipping number: 27\n",
    "Here is an odd number: 29\n",
    "Here is an odd number: 31\n",
    "Here is an odd number: 33\n",
    "Here is an odd number: 35\n",
    "Here is an odd number: 37\n",
    "Here is an odd number: 39\n",
    "Here is an odd number: 41\n",
    "Here is an odd number: 43\n",
    "Here is an odd number: 45\n",
    "Here is an odd number: 47\n",
    "Here is an odd number: 49\n"
   ]
  },
  {
   "cell_type": "code",
   "execution_count": 13,
   "id": "7926f692",
   "metadata": {
    "scrolled": true
   },
   "outputs": [
    {
     "name": "stdout",
     "output_type": "stream",
     "text": [
      "Enter an odd number between 1 and 50: 43\n",
      "Number to skip is: 43\n",
      "Here is an odd number: 1\n",
      "Here is an odd number: 3\n",
      "Here is an odd number: 5\n",
      "Here is an odd number: 7\n",
      "Here is an odd number: 9\n",
      "Here is an odd number: 11\n",
      "Here is an odd number: 13\n",
      "Here is an odd number: 15\n",
      "Here is an odd number: 17\n",
      "Here is an odd number: 19\n",
      "Here is an odd number: 21\n",
      "Here is an odd number: 23\n",
      "Here is an odd number: 25\n",
      "Here is an odd number: 27\n",
      "Here is an odd number: 29\n",
      "Here is an odd number: 31\n",
      "Here is an odd number: 33\n",
      "Here is an odd number: 35\n",
      "Here is an odd number: 37\n",
      "Here is an odd number: 39\n",
      "Here is an odd number: 41\n",
      "Yikes! Skipping number: 43\n",
      "Here is an odd number: 45\n",
      "Here is an odd number: 47\n",
      "Here is an odd number: 49\n"
     ]
    }
   ],
   "source": [
    "while True:\n",
    "    user_input = input(\"Enter an odd number between 1 and 50: \")\n",
    "\n",
    "    if user_input.isdigit():\n",
    "        user_input = int(user_input)\n",
    "\n",
    "        if 1 <= user_input <= 50 and user_input % 2 == 1:\n",
    "            break\n",
    "        else:\n",
    "            print(\"Invalid input. Please enter an odd number between 1 and 50.\")\n",
    "    else:\n",
    "        print(\"Invalid input. Please enter a valid number.\")\n",
    "\n",
    "print(f\"Number to skip is: {user_input}\")\n",
    "\n",
    "for i in range(1, 51):\n",
    "    if i == user_input:\n",
    "        print(f\"Yikes! Skipping number: {i}\")\n",
    "        continue\n",
    "    if i % 2 == 1:\n",
    "        print(f\"Here is an odd number: {i}\")\n"
   ]
  },
  {
   "cell_type": "markdown",
   "id": "9e45e0a9",
   "metadata": {},
   "source": [
    "3. Fizzbuzz\n",
    "\n",
    "One of the most common interview questions for entry-level programmers is the FizzBuzz test. Developed by Imran Ghory, the test is designed to test basic looping and conditional logic skills.\n",
    "\n",
    "Write a program that prints the numbers from 1 to 100.\n",
    "For multiples of three print \"Fizz\" instead of the number\n",
    "For the multiples of five print \"Buzz\".\n",
    "For numbers which are multiples of both three and five print \"FizzBuzz\"."
   ]
  },
  {
   "cell_type": "code",
   "execution_count": 14,
   "id": "57779510",
   "metadata": {},
   "outputs": [
    {
     "name": "stdout",
     "output_type": "stream",
     "text": [
      "1\n",
      "2\n",
      "Fizz\n",
      "4\n",
      "Buzz\n",
      "Fizz\n",
      "7\n",
      "8\n",
      "Fizz\n",
      "Buzz\n",
      "11\n",
      "Fizz\n",
      "13\n",
      "14\n",
      "FizzBuzz\n",
      "16\n",
      "17\n",
      "Fizz\n",
      "19\n",
      "Buzz\n",
      "Fizz\n",
      "22\n",
      "23\n",
      "Fizz\n",
      "Buzz\n",
      "26\n",
      "Fizz\n",
      "28\n",
      "29\n",
      "FizzBuzz\n",
      "31\n",
      "32\n",
      "Fizz\n",
      "34\n",
      "Buzz\n",
      "Fizz\n",
      "37\n",
      "38\n",
      "Fizz\n",
      "Buzz\n",
      "41\n",
      "Fizz\n",
      "43\n",
      "44\n",
      "FizzBuzz\n",
      "46\n",
      "47\n",
      "Fizz\n",
      "49\n",
      "Buzz\n",
      "Fizz\n",
      "52\n",
      "53\n",
      "Fizz\n",
      "Buzz\n",
      "56\n",
      "Fizz\n",
      "58\n",
      "59\n",
      "FizzBuzz\n",
      "61\n",
      "62\n",
      "Fizz\n",
      "64\n",
      "Buzz\n",
      "Fizz\n",
      "67\n",
      "68\n",
      "Fizz\n",
      "Buzz\n",
      "71\n",
      "Fizz\n",
      "73\n",
      "74\n",
      "FizzBuzz\n",
      "76\n",
      "77\n",
      "Fizz\n",
      "79\n",
      "Buzz\n",
      "Fizz\n",
      "82\n",
      "83\n",
      "Fizz\n",
      "Buzz\n",
      "86\n",
      "Fizz\n",
      "88\n",
      "89\n",
      "FizzBuzz\n",
      "91\n",
      "92\n",
      "Fizz\n",
      "94\n",
      "Buzz\n",
      "Fizz\n",
      "97\n",
      "98\n",
      "Fizz\n",
      "Buzz\n"
     ]
    }
   ],
   "source": [
    "for number in range(1, 101):\n",
    "    if number % 3 == 0 and number % 5 == 0:\n",
    "        print(\"FizzBuzz\")\n",
    "    elif number % 3 == 0:\n",
    "        print(\"Fizz\")\n",
    "    elif number % 5 == 0:\n",
    "        print(\"Buzz\")\n",
    "    else:\n",
    "        print(number)"
   ]
  },
  {
   "cell_type": "markdown",
   "id": "2e10873e",
   "metadata": {},
   "source": [
    "4. Display a table of powers.\n",
    "\n",
    "Prompt the user to enter an integer\n",
    "Display a table of squares and cubes from 1 to the value entered\n",
    "Ask if the user wants to continue\n",
    "Assume that the user will enter valid data\n",
    "Only continue if the user agrees to\n",
    "\n",
    "Example Output\n",
    "What number would you like to go up to? 5\n",
    "\n",
    "Here is your table!\n",
    "\n",
    "number | squared | cubed\n",
    "------ | ------- | -----\n",
    "1      | 1       | 1\n",
    "2      | 4       | 8\n",
    "3      | 9       | 27\n",
    "4      | 16      | 64\n",
    "5      | 25      | 125\n"
   ]
  },
  {
   "cell_type": "code",
   "execution_count": 15,
   "id": "039bf43b",
   "metadata": {},
   "outputs": [
    {
     "name": "stdout",
     "output_type": "stream",
     "text": [
      "Enter an integer: 5\n",
      "Number  |  Square  |  Cube\n",
      "-------  |  -------  |  -------\n",
      "      1  |        1  |        1\n",
      "      2  |        4  |        8\n",
      "      3  |        9  |       27\n",
      "      4  |       16  |       64\n",
      "      5  |       25  |      125\n",
      "Do you want to continue (yes/no)? yes\n",
      "Enter an integer: 6\n",
      "Number  |  Square  |  Cube\n",
      "-------  |  -------  |  -------\n",
      "      1  |        1  |        1\n",
      "      2  |        4  |        8\n",
      "      3  |        9  |       27\n",
      "      4  |       16  |       64\n",
      "      5  |       25  |      125\n",
      "      6  |       36  |      216\n",
      "Do you want to continue (yes/no)? no\n"
     ]
    }
   ],
   "source": [
    "while True:\n",
    "  \n",
    "    num = int(input(\"Enter an integer: \"))\n",
    "    \n",
    "    print(\"Number  |  Square  |  Cube\")\n",
    "    print(\"-------  |  -------  |  -------\")\n",
    "    \n",
    "    for i in range(1, num + 1):\n",
    "        square = i ** 2\n",
    "        cube = i ** 3\n",
    "        print(f\"{i:7}  |  {square:7}  |  {cube:7}\")\n",
    "    \n",
    "    \n",
    "    user_input = input(\"Do you want to continue (yes/no)? \").lower()\n",
    "    \n",
    "    if user_input != \"yes\":\n",
    "        break\n"
   ]
  },
  {
   "cell_type": "markdown",
   "id": "3005eb53",
   "metadata": {},
   "source": [
    "5. Convert given number grades into letter grades.\n",
    "\n",
    "Prompt the user for a numerical grade from 0 to 100\n",
    "Display the corresponding letter grade\n",
    "Prompt the user to continue\n",
    "Assume that the user will enter valid integers for the grades\n",
    "The application should only continue if the user agrees to\n",
    "Grade Ranges:\n",
    "\n",
    "A : 100 - 88\n",
    "B : 87 - 80\n",
    "C : 79 - 67\n",
    "D : 66 - 60\n",
    "F : 59 - 0"
   ]
  },
  {
   "cell_type": "code",
   "execution_count": 16,
   "id": "59bd62fc",
   "metadata": {},
   "outputs": [
    {
     "name": "stdout",
     "output_type": "stream",
     "text": [
      "Enter a numerical grade (0-100): 65\n",
      "Letter grade: D\n",
      "Do you want to continue (yes/no)? yes\n",
      "Enter a numerical grade (0-100): 89\n",
      "Letter grade: A\n",
      "Do you want to continue (yes/no)? no\n"
     ]
    }
   ],
   "source": [
    "while True:\n",
    "    \n",
    "    numerical_grade = int(input(\"Enter a numerical grade (0-100): \"))\n",
    "    \n",
    "    if 88 <= numerical_grade <= 100:\n",
    "        letter_grade = \"A\"\n",
    "    elif 80 <= numerical_grade <= 87:\n",
    "        letter_grade = \"B\"\n",
    "    elif 67 <= numerical_grade <= 79:\n",
    "        letter_grade = \"C\"\n",
    "    elif 60 <= numerical_grade <= 66:\n",
    "        letter_grade = \"D\"\n",
    "    elif 0 <= numerical_grade <= 59:\n",
    "        letter_grade = \"F\"\n",
    "    else:\n",
    "        letter_grade = \"Invalid\"\n",
    "\n",
    "    if letter_grade != \"Invalid\":\n",
    "       \n",
    "        print(f\"Letter grade: {letter_grade}\")\n",
    "    else:\n",
    "        print(\"Invalid input. Please enter a numerical grade between 0 and 100.\")\n",
    "\n",
    "    \n",
    "    user_input = input(\"Do you want to continue (yes/no)? \").lower()\n",
    "    \n",
    "    if user_input != \"yes\":\n",
    "        break\n"
   ]
  },
  {
   "cell_type": "markdown",
   "id": "c6fba271",
   "metadata": {},
   "source": [
    "6. Create a list of dictionaries where each dictionary represents a book that you have read. Each dictionary in the list should have the keys title, author, and genre. Loop through the list and print out information about each book.\n",
    "\n",
    "Prompt the user to enter a genre, then loop through your books list and print out the titles of all the books in that genre."
   ]
  },
  {
   "cell_type": "code",
   "execution_count": 18,
   "id": "37639563",
   "metadata": {},
   "outputs": [
    {
     "name": "stdout",
     "output_type": "stream",
     "text": [
      "Title: Book 1, Author: Author 1, Genre: Fiction\n",
      "Title: Book 2, Author: Author 2, Genre: Mystery\n",
      "Title: Book 3, Author: Author 3, Genre: Science Fiction\n",
      "Title: Book 4, Author: Author 4, Genre: Mystery\n",
      "Title: Book 5, Author: Author 5, Genre: Non-fiction\n",
      "Enter a genre to filter books: mystery\n",
      "Books in the mystery genre:\n",
      "Book 2\n",
      "Book 4\n"
     ]
    }
   ],
   "source": [
    "books = [\n",
    "    {\"title\": \"Book 1\", \"author\": \"Author 1\", \"genre\": \"Fiction\"},\n",
    "    {\"title\": \"Book 2\", \"author\": \"Author 2\", \"genre\": \"Mystery\"},\n",
    "    {\"title\": \"Book 3\", \"author\": \"Author 3\", \"genre\": \"Science Fiction\"},\n",
    "    {\"title\": \"Book 4\", \"author\": \"Author 4\", \"genre\": \"Mystery\"},\n",
    "    {\"title\": \"Book 5\", \"author\": \"Author 5\", \"genre\": \"Non-fiction\"}\n",
    "]\n",
    "\n",
    "\n",
    "for book in books:\n",
    "    print(f\"Title: {book['title']}, Author: {book['author']}, Genre: {book['genre']}\")\n",
    "\n",
    "\n",
    "user_genre = input(\"Enter a genre to filter books: \")\n",
    "\n",
    "print(f\"Books in the {user_genre} genre:\")\n",
    "for book in books:\n",
    "    if book[\"genre\"].lower() == user_genre.lower():\n",
    "        print(book[\"title\"])\n"
   ]
  },
  {
   "cell_type": "markdown",
   "id": "1469b7bf",
   "metadata": {},
   "source": [
    "Bonus Exercises\n",
    "For your Power of Tables exercise, research python's format string specifiers to align the table\n",
    "\n",
    "For your Number Grade to Letter Grade exercise, edit your grade ranges to include pluses and minuses (ex: 99-100 = A+)\n",
    "\n",
    "For practicing with list comprehensions, work through 17 List Comprehension Exercises\n",
    "\n",
    "For even more practice with all your Python tools together, work through 20 Python Data Structure Manipulation Exercises"
   ]
  },
  {
   "cell_type": "code",
   "execution_count": null,
   "id": "b6566ce3",
   "metadata": {},
   "outputs": [],
   "source": []
  }
 ],
 "metadata": {
  "kernelspec": {
   "display_name": "Python 3 (ipykernel)",
   "language": "python",
   "name": "python3"
  },
  "language_info": {
   "codemirror_mode": {
    "name": "ipython",
    "version": 3
   },
   "file_extension": ".py",
   "mimetype": "text/x-python",
   "name": "python",
   "nbconvert_exporter": "python",
   "pygments_lexer": "ipython3",
   "version": "3.11.5"
  }
 },
 "nbformat": 4,
 "nbformat_minor": 5
}
