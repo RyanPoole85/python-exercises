{
 "cells": [
  {
   "cell_type": "code",
   "execution_count": 1,
   "id": "a335e42a",
   "metadata": {},
   "outputs": [
    {
     "name": "stdout",
     "output_type": "stream",
     "text": [
      "Hello World!\n"
     ]
    }
   ],
   "source": [
    "print ('Hello World!')"
   ]
  },
  {
   "cell_type": "code",
   "execution_count": 2,
   "id": "641f3c76",
   "metadata": {},
   "outputs": [
    {
     "name": "stdout",
     "output_type": "stream",
     "text": [
      "Codeup Data Science Week 4!\n"
     ]
    }
   ],
   "source": [
    "print ('Codeup Data Science Week 4!')"
   ]
  },
  {
   "cell_type": "code",
   "execution_count": 3,
   "id": "f4c7fb02",
   "metadata": {},
   "outputs": [
    {
     "name": "stdout",
     "output_type": "stream",
     "text": [
      "San Antonio, TX\n"
     ]
    }
   ],
   "source": [
    "print ('San Antonio, TX')"
   ]
  },
  {
   "cell_type": "code",
   "execution_count": 4,
   "id": "77ed196b",
   "metadata": {},
   "outputs": [
    {
     "ename": "NameError",
     "evalue": "name 'Print' is not defined",
     "output_type": "error",
     "traceback": [
      "\u001b[0;31m---------------------------------------------------------------------------\u001b[0m",
      "\u001b[0;31mNameError\u001b[0m                                 Traceback (most recent call last)",
      "Cell \u001b[0;32mIn[4], line 1\u001b[0m\n\u001b[0;32m----> 1\u001b[0m Print (\u001b[38;5;124m'\u001b[39m\u001b[38;5;124mShift + enter to run code\u001b[39m\u001b[38;5;124m'\u001b[39m)\n",
      "\u001b[0;31mNameError\u001b[0m: name 'Print' is not defined"
     ]
    }
   ],
   "source": [
    "Print ('Shift + enter to run code')"
   ]
  },
  {
   "cell_type": "code",
   "execution_count": 5,
   "id": "1e79dcea",
   "metadata": {},
   "outputs": [
    {
     "name": "stdout",
     "output_type": "stream",
     "text": [
      "Shift + enter to run code\n"
     ]
    }
   ],
   "source": [
    "print ('Shift + enter to run code')"
   ]
  },
  {
   "cell_type": "code",
   "execution_count": 6,
   "id": "6a90628e",
   "metadata": {},
   "outputs": [
    {
     "name": "stdout",
     "output_type": "stream",
     "text": [
      "Alt + enter to run the current cell and insert below\n"
     ]
    }
   ],
   "source": [
    "print ('Alt + enter to run the current cell and insert below')"
   ]
  },
  {
   "cell_type": "code",
   "execution_count": 7,
   "id": "66449166",
   "metadata": {},
   "outputs": [
    {
     "name": "stdout",
     "output_type": "stream",
     "text": [
      "D, D press the key twice to delete selected cells\n"
     ]
    }
   ],
   "source": [
    "print ('D, D press the key twice to delete selected cells')"
   ]
  },
  {
   "cell_type": "code",
   "execution_count": 8,
   "id": "3b2fc33f",
   "metadata": {},
   "outputs": [
    {
     "name": "stdout",
     "output_type": "stream",
     "text": [
      "z to undo cell deletion\n"
     ]
    }
   ],
   "source": [
    "print ('z to undo cell deletion')"
   ]
  },
  {
   "cell_type": "code",
   "execution_count": 9,
   "id": "4d6494c0",
   "metadata": {},
   "outputs": [
    {
     "name": "stdout",
     "output_type": "stream",
     "text": [
      "Collecting pydataset\n",
      "  Downloading pydataset-0.2.0.tar.gz (15.9 MB)\n",
      "\u001b[2K     \u001b[90m━━━━━━━━━━━━━━━━━━━━━━━━━━━━━━━━━━━━━━━━\u001b[0m \u001b[32m15.9/15.9 MB\u001b[0m \u001b[31m19.9 MB/s\u001b[0m eta \u001b[36m0:00:00\u001b[0m00:01\u001b[0m00:01\u001b[0m\n",
      "\u001b[?25h  Preparing metadata (setup.py) ... \u001b[?25ldone\n",
      "\u001b[?25hRequirement already satisfied: pandas in /opt/homebrew/anaconda3/lib/python3.11/site-packages (from pydataset) (2.0.3)\n",
      "Requirement already satisfied: python-dateutil>=2.8.2 in /opt/homebrew/anaconda3/lib/python3.11/site-packages (from pandas->pydataset) (2.8.2)\n",
      "Requirement already satisfied: pytz>=2020.1 in /opt/homebrew/anaconda3/lib/python3.11/site-packages (from pandas->pydataset) (2023.3.post1)\n",
      "Requirement already satisfied: tzdata>=2022.1 in /opt/homebrew/anaconda3/lib/python3.11/site-packages (from pandas->pydataset) (2023.3)\n",
      "Requirement already satisfied: numpy>=1.21.0 in /opt/homebrew/anaconda3/lib/python3.11/site-packages (from pandas->pydataset) (1.24.3)\n",
      "Requirement already satisfied: six>=1.5 in /opt/homebrew/anaconda3/lib/python3.11/site-packages (from python-dateutil>=2.8.2->pandas->pydataset) (1.16.0)\n",
      "Building wheels for collected packages: pydataset\n",
      "  Building wheel for pydataset (setup.py) ... \u001b[?25ldone\n",
      "\u001b[?25h  Created wheel for pydataset: filename=pydataset-0.2.0-py3-none-any.whl size=15939418 sha256=831a35fb14afed3843a0ebbfdb6aab6b73f594cc51a89ceb13e9d2b817aae453\n",
      "  Stored in directory: /Users/ryanpoole/Library/Caches/pip/wheels/29/93/3f/af54c413cecaac292940342c61882d2a8848674175d0bb0889\n",
      "Successfully built pydataset\n",
      "Installing collected packages: pydataset\n",
      "Successfully installed pydataset-0.2.0\n",
      "Note: you may need to restart the kernel to use updated packages.\n"
     ]
    }
   ],
   "source": [
    "pip install pydataset"
   ]
  },
  {
   "cell_type": "code",
   "execution_count": null,
   "id": "0c06b138",
   "metadata": {},
   "outputs": [],
   "source": []
  }
 ],
 "metadata": {
  "kernelspec": {
   "display_name": "Python 3 (ipykernel)",
   "language": "python",
   "name": "python3"
  },
  "language_info": {
   "codemirror_mode": {
    "name": "ipython",
    "version": 3
   },
   "file_extension": ".py",
   "mimetype": "text/x-python",
   "name": "python",
   "nbconvert_exporter": "python",
   "pygments_lexer": "ipython3",
   "version": "3.11.5"
  }
 },
 "nbformat": 4,
 "nbformat_minor": 5
}
