{
 "cells": [
  {
   "cell_type": "markdown",
   "id": "c4dad279",
   "metadata": {},
   "source": [
    "Define a function named is_two. It should accept one input and return True if the passed input is either the number or the string 2, False otherwise"
   ]
  },
  {
   "cell_type": "code",
   "execution_count": 4,
   "id": "256ab425",
   "metadata": {},
   "outputs": [
    {
     "name": "stdout",
     "output_type": "stream",
     "text": [
      "True\n",
      "False\n"
     ]
    }
   ],
   "source": [
    "def is_two(input):\n",
    "    return input == 2 or input == '2'\n",
    "\n",
    "print(is_two(2))\n",
    "print(is_two(4))"
   ]
  },
  {
   "cell_type": "markdown",
   "id": "fdb575c9",
   "metadata": {},
   "source": [
    "Define a function named is_vowel. It should return True if the passed string is a vowel, False otherwise."
   ]
  },
  {
   "cell_type": "code",
   "execution_count": 3,
   "id": "ca66c49f",
   "metadata": {},
   "outputs": [
    {
     "data": {
      "text/plain": [
       "True"
      ]
     },
     "execution_count": 3,
     "metadata": {},
     "output_type": "execute_result"
    }
   ],
   "source": [
    "def is_vowel(input):\n",
    "    vowels = 'aeiouAEIOU'\n",
    "    len(input) == 1\n",
    "    return input in vowels\n",
    "\n",
    "\n",
    "is_vowel('a')"
   ]
  },
  {
   "cell_type": "code",
   "execution_count": 6,
   "id": "f18538c2",
   "metadata": {},
   "outputs": [
    {
     "data": {
      "text/plain": [
       "False"
      ]
     },
     "execution_count": 6,
     "metadata": {},
     "output_type": "execute_result"
    }
   ],
   "source": [
    "is_vowel('c')"
   ]
  },
  {
   "cell_type": "code",
   "execution_count": 6,
   "id": "ef563f5f",
   "metadata": {},
   "outputs": [
    {
     "data": {
      "text/plain": [
       "False"
      ]
     },
     "execution_count": 6,
     "metadata": {},
     "output_type": "execute_result"
    }
   ],
   "source": [
    "is_vowel('word')"
   ]
  },
  {
   "cell_type": "markdown",
   "id": "53edf905",
   "metadata": {},
   "source": [
    "Define a function named is_consonant. It should return True if the passed string is a consonant, False otherwise. Use your is_vowel function to accomplish this."
   ]
  },
  {
   "cell_type": "code",
   "execution_count": 11,
   "id": "186758db",
   "metadata": {},
   "outputs": [
    {
     "data": {
      "text/plain": [
       "False"
      ]
     },
     "execution_count": 11,
     "metadata": {},
     "output_type": "execute_result"
    }
   ],
   "source": [
    "def is_consonant(input):\n",
    "    len(input) == 1\n",
    "    return not is_vowel(input)\n",
    "\n",
    "is_consonant('a')"
   ]
  },
  {
   "cell_type": "code",
   "execution_count": 12,
   "id": "d96c97ea",
   "metadata": {},
   "outputs": [
    {
     "data": {
      "text/plain": [
       "True"
      ]
     },
     "execution_count": 12,
     "metadata": {},
     "output_type": "execute_result"
    }
   ],
   "source": [
    "is_consonant('c')"
   ]
  },
  {
   "cell_type": "markdown",
   "id": "9df580cf",
   "metadata": {},
   "source": [
    "Define a function that accepts a string that is a word. The function should capitalize the first letter of the word if the word starts with a consonant."
   ]
  },
  {
   "cell_type": "code",
   "execution_count": 11,
   "id": "2ce0f3cc",
   "metadata": {},
   "outputs": [
    {
     "data": {
      "text/plain": [
       "'Football'"
      ]
     },
     "execution_count": 11,
     "metadata": {},
     "output_type": "execute_result"
    }
   ],
   "source": [
    "def capitalize_consonant(input):\n",
    "    vowels = 'aeiouAEIOU'\n",
    "    if input and input[0] not in vowels:\n",
    "        return input[0].upper() + input[1:]\n",
    "    else:\n",
    "        return input\n",
    "    \n",
    "capitalize_consonant('football')"
   ]
  },
  {
   "cell_type": "code",
   "execution_count": 13,
   "id": "bca01c38",
   "metadata": {},
   "outputs": [
    {
     "data": {
      "text/plain": [
       "'apple'"
      ]
     },
     "execution_count": 13,
     "metadata": {},
     "output_type": "execute_result"
    }
   ],
   "source": [
    "capitalize_consonant('apple')"
   ]
  },
  {
   "cell_type": "markdown",
   "id": "cd374bc4",
   "metadata": {},
   "source": [
    "Define a function named calculate_tip. It should accept a tip percentage (a number between 0 and 1) and the bill total, and return the amount to tip"
   ]
  },
  {
   "cell_type": "code",
   "execution_count": 14,
   "id": "65b14b0f",
   "metadata": {},
   "outputs": [
    {
     "data": {
      "text/plain": [
       "13.4"
      ]
     },
     "execution_count": 14,
     "metadata": {},
     "output_type": "execute_result"
    }
   ],
   "source": [
    "def calculate_tip(tip_percentage, bill_total):\n",
    "    if 0 <= tip_percentage <= 1:\n",
    "        return tip_percentage * bill_total\n",
    "    else:\n",
    "        return \"Invalid tip percentage\"\n",
    "    \n",
    "calculate_tip(0.20, 67)"
   ]
  },
  {
   "cell_type": "markdown",
   "id": "48c4067f",
   "metadata": {},
   "source": [
    "Define a function named apply_discount. It should accept a original price, and a discount percentage, and return the price after the discount is applied."
   ]
  },
  {
   "cell_type": "code",
   "execution_count": 15,
   "id": "f7751f5f",
   "metadata": {},
   "outputs": [
    {
     "data": {
      "text/plain": [
       "49.28"
      ]
     },
     "execution_count": 15,
     "metadata": {},
     "output_type": "execute_result"
    }
   ],
   "source": [
    "def apply_discount(original_price, discount_percentage):\n",
    "    if 0 <= discount_percentage <= 1:\n",
    "        return original_price - (original_price * discount_percentage)\n",
    "    else:\n",
    "        return \"Invalid discount percentage\"\n",
    "    \n",
    "apply_discount(56, 0.12)"
   ]
  },
  {
   "cell_type": "code",
   "execution_count": 16,
   "id": "03229015",
   "metadata": {},
   "outputs": [
    {
     "data": {
      "text/plain": [
       "108.75"
      ]
     },
     "execution_count": 16,
     "metadata": {},
     "output_type": "execute_result"
    }
   ],
   "source": [
    "apply_discount(145, 0.25)"
   ]
  },
  {
   "cell_type": "markdown",
   "id": "83abf99a",
   "metadata": {},
   "source": [
    "Define a function named handle_commas. It should accept a string that is a number that contains commas in it as input, and return a number as output."
   ]
  },
  {
   "cell_type": "code",
   "execution_count": 15,
   "id": "123c2fd5",
   "metadata": {},
   "outputs": [
    {
     "data": {
      "text/plain": [
       "2333444.0"
      ]
     },
     "execution_count": 15,
     "metadata": {},
     "output_type": "execute_result"
    }
   ],
   "source": [
    "def handle_commas(number_str):\n",
    "    \n",
    "    number_str = number_str.replace(',', '')\n",
    "    try:\n",
    "        number = float(number_str)\n",
    "        return number\n",
    "    except ValueError:\n",
    "        return \"Invalid input\"\n",
    "\n",
    "handle_commas('2,333,444')"
   ]
  },
  {
   "cell_type": "code",
   "execution_count": 16,
   "id": "2bdcac99",
   "metadata": {},
   "outputs": [
    {
     "data": {
      "text/plain": [
       "3333.0"
      ]
     },
     "execution_count": 16,
     "metadata": {},
     "output_type": "execute_result"
    }
   ],
   "source": [
    "handle_commas('3333')"
   ]
  },
  {
   "cell_type": "code",
   "execution_count": 17,
   "id": "5c742301",
   "metadata": {},
   "outputs": [
    {
     "data": {
      "text/plain": [
       "'Invalid input'"
      ]
     },
     "execution_count": 17,
     "metadata": {},
     "output_type": "execute_result"
    }
   ],
   "source": [
    "handle_commas('five')"
   ]
  },
  {
   "cell_type": "markdown",
   "id": "d7bc8071",
   "metadata": {},
   "source": [
    "Define a function named get_letter_grade. It should accept a number and return the letter grade associated with that number (A-F)."
   ]
  },
  {
   "cell_type": "code",
   "execution_count": 18,
   "id": "fd712972",
   "metadata": {},
   "outputs": [
    {
     "data": {
      "text/plain": [
       "'C'"
      ]
     },
     "execution_count": 18,
     "metadata": {},
     "output_type": "execute_result"
    }
   ],
   "source": [
    "def get_letter_grade(numerical_grade):\n",
    "    if 90 <= numerical_grade <= 100:\n",
    "        return 'A'\n",
    "    elif 80 <= numerical_grade < 90:\n",
    "        return 'B'\n",
    "    elif 70 <= numerical_grade < 80:\n",
    "        return 'C'\n",
    "    elif 60 <= numerical_grade < 70:\n",
    "        return 'D'\n",
    "    elif  0 <= numerical_grade < 60:\n",
    "        return 'F'\n",
    "    else:\n",
    "        return 'Invalid grade input'\n",
    "\n",
    "get_letter_grade(78)\n",
    "        "
   ]
  },
  {
   "cell_type": "code",
   "execution_count": 19,
   "id": "35fb4e31",
   "metadata": {},
   "outputs": [
    {
     "data": {
      "text/plain": [
       "'A'"
      ]
     },
     "execution_count": 19,
     "metadata": {},
     "output_type": "execute_result"
    }
   ],
   "source": [
    "get_letter_grade(95)"
   ]
  },
  {
   "cell_type": "markdown",
   "id": "15aa2048",
   "metadata": {},
   "source": [
    "Define a function named remove_vowels that accepts a string and returns a string with all the vowels removed."
   ]
  },
  {
   "cell_type": "code",
   "execution_count": 30,
   "id": "d1895ea3",
   "metadata": {},
   "outputs": [
    {
     "data": {
      "text/plain": [
       "'Dt Scnc Cdp'"
      ]
     },
     "execution_count": 30,
     "metadata": {},
     "output_type": "execute_result"
    }
   ],
   "source": [
    "def remove_vowels(input_string):\n",
    "    vowels = 'aeiouAEIOU'\n",
    "    return ''.join(char for char in input_string if char not in vowels)\n",
    "\n",
    "remove_vowels('Data Science Codeup')"
   ]
  },
  {
   "cell_type": "markdown",
   "id": "eacacb60",
   "metadata": {},
   "source": [
    "Define a function named normalize_name. It should accept a string and return a valid python identifier, that is:\n",
    "anything that is not a valid python identifier should be removed\n",
    "leading and trailing whitespace should be removed\n",
    "everything should be lowercase\n",
    "spaces should be replaced with underscores\n",
    "for example:\n",
    "Name will become name\n",
    "First Name will become first_name\n",
    "% Completed will become completed"
   ]
  },
  {
   "cell_type": "code",
   "execution_count": 22,
   "id": "f353375f",
   "metadata": {},
   "outputs": [
    {
     "data": {
      "text/plain": [
       "'ryan_anthony_poole'"
      ]
     },
     "execution_count": 22,
     "metadata": {},
     "output_type": "execute_result"
    }
   ],
   "source": [
    "def normalize_name(input_string):\n",
    "    \n",
    "    normalized_string = input_string.strip().lower().replace(\" \", \"_\")\n",
    "    normalized_string = ''.join(char for char in normalized_string if char.isalnum() or char == '_')\n",
    "\n",
    "    return normalized_string\n",
    "\n",
    "normalize_name('Ryan Anthony Poole')"
   ]
  },
  {
   "cell_type": "code",
   "execution_count": 24,
   "id": "8e72c7f0",
   "metadata": {},
   "outputs": [
    {
     "data": {
      "text/plain": [
       "'ryan_anthony___poole'"
      ]
     },
     "execution_count": 24,
     "metadata": {},
     "output_type": "execute_result"
    }
   ],
   "source": [
    "normalize_name('     Ryan Anthony   Poole')"
   ]
  },
  {
   "cell_type": "markdown",
   "id": "d189393e",
   "metadata": {},
   "source": [
    "Write a function named cumulative_sum that accepts a list of numbers and returns a list that is the cumulative sum of the numbers in the list.\n",
    "cumulative_sum([1, 1, 1]) returns [1, 2, 3]\n",
    "cumulative_sum([1, 2, 3, 4]) returns [1, 3, 6, 10]"
   ]
  },
  {
   "cell_type": "code",
   "execution_count": 25,
   "id": "19f592d1",
   "metadata": {},
   "outputs": [
    {
     "data": {
      "text/plain": [
       "[4, 9, 15, 22]"
      ]
     },
     "execution_count": 25,
     "metadata": {},
     "output_type": "execute_result"
    }
   ],
   "source": [
    "def cumulative_sum(numbers):\n",
    "    cumulative = []\n",
    "    total = 0\n",
    "    \n",
    "    for num in numbers:\n",
    "        total += num\n",
    "        cumulative.append(total)\n",
    "\n",
    "    return cumulative\n",
    "\n",
    "cumulative_sum([4,5,6,7])"
   ]
  },
  {
   "cell_type": "code",
   "execution_count": 26,
   "id": "5a2c9ad3",
   "metadata": {},
   "outputs": [
    {
     "data": {
      "text/plain": [
       "[10, 25, 45, 70, 100, 135]"
      ]
     },
     "execution_count": 26,
     "metadata": {},
     "output_type": "execute_result"
    }
   ],
   "source": [
    "cumulative_sum([10, 15, 20, 25, 30, 35])"
   ]
  },
  {
   "cell_type": "markdown",
   "id": "a88b00b6",
   "metadata": {},
   "source": [
    "Create a function named twelveto24. It should accept a string in the format 10:45am or 4:30pm and return a string that is the representation of the time in a 24-hour format. Bonus write a function that does the opposite"
   ]
  },
  {
   "cell_type": "code",
   "execution_count": 34,
   "id": "00c5d287",
   "metadata": {},
   "outputs": [
    {
     "data": {
      "text/plain": [
       "'07:30'"
      ]
     },
     "execution_count": 34,
     "metadata": {},
     "output_type": "execute_result"
    }
   ],
   "source": [
    "def twelveto24(time_str):\n",
    "    if time_str[-2:].lower() == 'am':\n",
    "        if time_str[:2] == '12':\n",
    "            return '00' + time_str[2:-2]\n",
    "        else:\n",
    "            return time_str[:-2]\n",
    "    else:  \n",
    "        if time_str[:2] == '12':\n",
    "            return time_str[:-2]\n",
    "        else:\n",
    "            hour = int(time_str[:2]) + 12\n",
    "            return str(hour) + time_str[2:-2]\n",
    "\n",
    "twelveto24('07:30am')"
   ]
  },
  {
   "cell_type": "code",
   "execution_count": 35,
   "id": "1dcbf2b2",
   "metadata": {},
   "outputs": [
    {
     "data": {
      "text/plain": [
       "'19:30'"
      ]
     },
     "execution_count": 35,
     "metadata": {},
     "output_type": "execute_result"
    }
   ],
   "source": [
    "twelveto24('07:30pm')"
   ]
  },
  {
   "cell_type": "markdown",
   "id": "ddd3f713",
   "metadata": {},
   "source": [
    "Create a function named col_index. It should accept a spreadsheet column name, and return the index number of the column.\n",
    "col_index('A') returns 1\n",
    "col_index('B') returns 2\n",
    "col_index('AA') returns 27"
   ]
  },
  {
   "cell_type": "code",
   "execution_count": 38,
   "id": "d366c3ca",
   "metadata": {},
   "outputs": [
    {
     "name": "stdout",
     "output_type": "stream",
     "text": [
      "1\n",
      "2\n",
      "52\n"
     ]
    }
   ],
   "source": [
    "def col_index(column_name):\n",
    "    column_name = column_name.upper()\n",
    "    index = 0\n",
    "\n",
    "    for char in column_name:\n",
    "        index = index * 26 + (ord(char) - ord('A') + 1)\n",
    "\n",
    "    return index\n",
    "\n",
    "print(col_index('A'))\n",
    "print(col_index('B'))\n",
    "print(col_index('AZ'))"
   ]
  },
  {
   "cell_type": "code",
   "execution_count": null,
   "id": "f08ff5aa",
   "metadata": {},
   "outputs": [],
   "source": []
  }
 ],
 "metadata": {
  "kernelspec": {
   "display_name": "Python 3 (ipykernel)",
   "language": "python",
   "name": "python3"
  },
  "language_info": {
   "codemirror_mode": {
    "name": "ipython",
    "version": 3
   },
   "file_extension": ".py",
   "mimetype": "text/x-python",
   "name": "python",
   "nbconvert_exporter": "python",
   "pygments_lexer": "ipython3",
   "version": "3.11.5"
  }
 },
 "nbformat": 4,
 "nbformat_minor": 5
}
